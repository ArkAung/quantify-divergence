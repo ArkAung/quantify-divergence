{
 "cells": [
  {
   "cell_type": "markdown",
   "metadata": {},
   "source": [
    "# Quantifying Divergence of Multiple Teachers"
   ]
  },
  {
   "cell_type": "code",
   "execution_count": 1,
   "metadata": {},
   "outputs": [],
   "source": [
    "import numpy as np\n",
    "from scipy.special import softmax\n",
    "from scipy.spatial.distance import jensenshannon\n",
    "\n",
    "from itertools import combinations\n",
    "\n",
    "import matplotlib.pyplot as plt\n",
    "%matplotlib inline"
   ]
  },
  {
   "cell_type": "code",
   "execution_count": 2,
   "metadata": {},
   "outputs": [],
   "source": [
    "CLASSES = 10\n",
    "SAMPLES = 10\n",
    "NUM_TEACHERS = 4"
   ]
  },
  {
   "cell_type": "markdown",
   "metadata": {},
   "source": [
    "We are going to generate dummy softmax outputs on 10 classes from 4 teachers for 10 data samples. Since we are going to generate dummy data outputs by sampling from uniform distribution, the differences in resulting visuals are not going to be that discernable. You will find more prominent results from your experiments where your teachers diverge quite a lot."
   ]
  },
  {
   "cell_type": "code",
   "execution_count": 21,
   "metadata": {},
   "outputs": [],
   "source": [
    "def generate_sample_output_distributions(samples=10, classes=10):\n",
    "    outputs = np.random.rand(samples,classes) \n",
    "    softmax_outputs = softmax(outputs, axis=1)\n",
    "    return softmax_outputs"
   ]
  },
  {
   "cell_type": "code",
   "execution_count": 22,
   "metadata": {},
   "outputs": [],
   "source": [
    "teacher_outputs = {}\n",
    "\n",
    "for t_i in range(NUM_TEACHERS):\n",
    "    sample_outputs = generate_sample_output_distributions(samples=SAMPLES, classes=CLASSES)\n",
    "    teacher_name = 'teacher_{}'.format(t_i)\n",
    "    teacher_outputs[teacher_name] = sample_outputs"
   ]
  },
  {
   "cell_type": "code",
   "execution_count": 23,
   "metadata": {},
   "outputs": [
    {
     "name": "stdout",
     "output_type": "stream",
     "text": [
      "Teachers\n"
     ]
    },
    {
     "data": {
      "text/plain": [
       "dict_keys(['teacher_0', 'teacher_1', 'teacher_2', 'teacher_3'])"
      ]
     },
     "execution_count": 23,
     "metadata": {},
     "output_type": "execute_result"
    }
   ],
   "source": [
    "print(\"Teachers\")\n",
    "teacher_outputs.keys()"
   ]
  },
  {
   "cell_type": "code",
   "execution_count": 24,
   "metadata": {},
   "outputs": [
    {
     "data": {
      "text/plain": [
       "(10, 10)"
      ]
     },
     "execution_count": 24,
     "metadata": {},
     "output_type": "execute_result"
    }
   ],
   "source": [
    "teacher_outputs['teacher_0'].shape"
   ]
  },
  {
   "cell_type": "markdown",
   "metadata": {},
   "source": [
    "For each data sample, we want to measure the divergence of 4 teachers."
   ]
  },
  {
   "cell_type": "markdown",
   "metadata": {},
   "source": [
    "#### Visualizing the output distributions"
   ]
  },
  {
   "cell_type": "code",
   "execution_count": 25,
   "metadata": {},
   "outputs": [
    {
     "data": {
      "image/png": "[encoded data removed]",
      "text/plain": [
       "<Figure size 432x288 with 1 Axes>"
      ]
     },
     "metadata": {
      "needs_background": "light"
     },
     "output_type": "display_data"
    }
   ],
   "source": [
    "for t_name in teacher_outputs:\n",
    "    rand_idx = np.random.randint(SAMPLES)\n",
    "    plt.bar(range(CLASSES), teacher_outputs[t_name][rand_idx], alpha=0.3)\n",
    "plt.xlabel(\"Classes\")\n",
    "plt.ylabel(\"Probability\")\n",
    "plt.title(\"Sample output distributions from 4 teachers for a random data sample\")\n",
    "plt.show()"
   ]
  },
  {
   "cell_type": "markdown",
   "metadata": {},
   "source": [
    "#### Possible combinations of teacher pairs"
   ]
  },
  {
   "cell_type": "code",
   "execution_count": 26,
   "metadata": {},
   "outputs": [
    {
     "name": "stdout",
     "output_type": "stream",
     "text": [
      "There are 6 possbile teacher pairs\n"
     ]
    },
    {
     "data": {
      "text/plain": [
       "[('teacher_0', 'teacher_1'),\n",
       " ('teacher_0', 'teacher_2'),\n",
       " ('teacher_0', 'teacher_3'),\n",
       " ('teacher_1', 'teacher_2'),\n",
       " ('teacher_1', 'teacher_3'),\n",
       " ('teacher_2', 'teacher_3')]"
      ]
     },
     "execution_count": 26,
     "metadata": {},
     "output_type": "execute_result"
    }
   ],
   "source": [
    "teacher_pairs = list(combinations(teacher_outputs.keys(), r=2))\n",
    "print(\"There are {} possbile teacher pairs\".format(len(teacher_pairs)))\n",
    "teacher_pairs"
   ]
  },
  {
   "cell_type": "markdown",
   "metadata": {},
   "source": [
    "#### For a single data sample, these are corresponding JS divergence values for each teacher pair"
   ]
  },
  {
   "cell_type": "code",
   "execution_count": 27,
   "metadata": {},
   "outputs": [
    {
     "name": "stdout",
     "output_type": "stream",
     "text": [
      "For data sample at index: 1\n",
      "teacher_0 <==> teacher_1 :: JS divergence is 0.1438072370565025\n",
      "teacher_0 <==> teacher_2 :: JS divergence is 0.14448989884137123\n",
      "teacher_0 <==> teacher_3 :: JS divergence is 0.11438029431603193\n",
      "teacher_1 <==> teacher_2 :: JS divergence is 0.14025146835260785\n",
      "teacher_1 <==> teacher_3 :: JS divergence is 0.12944548784379645\n",
      "teacher_2 <==> teacher_3 :: JS divergence is 0.08693820944799673\n"
     ]
    }
   ],
   "source": [
    "rand_idx = np.random.randint(SAMPLES)\n",
    "print(\"For data sample at index: {}\".format(rand_idx))\n",
    "js_values = []\n",
    "for t1_name, t2_name in teacher_pairs:\n",
    "    t1_out = teacher_outputs[t1_name][rand_idx]\n",
    "    t2_out = teacher_outputs[t2_name][rand_idx]\n",
    "    js_div = jensenshannon(t1_out, t2_out)\n",
    "    js_values.append(js_div)\n",
    "    print(\"{} <==> {} :: JS divergence is {}\".format(t1_name, t2_name,\n",
    "                                                     js_div))"
   ]
  },
  {
   "cell_type": "markdown",
   "metadata": {},
   "source": [
    "**Take the mean value of all those**"
   ]
  },
  {
   "cell_type": "code",
   "execution_count": 28,
   "metadata": {},
   "outputs": [
    {
     "name": "stdout",
     "output_type": "stream",
     "text": [
      "For data sample idx 1 :: Mean JS divergence value for 4 teachers: 0.12655209930971778\n"
     ]
    }
   ],
   "source": [
    "print(\"For data sample idx {} :: Mean JS divergence value for 4 teachers: {}\".format(rand_idx,\n",
    "                                                                                     np.mean(js_values)))"
   ]
  },
  {
   "cell_type": "markdown",
   "metadata": {},
   "source": [
    "#### Collect this mean value for all data samples"
   ]
  },
  {
   "cell_type": "code",
   "execution_count": 29,
   "metadata": {},
   "outputs": [
    {
     "name": "stdout",
     "output_type": "stream",
     "text": [
      "teacher_0 <==> teacher_1 :: JS divergence for data sample at index 0 is 0.10742330132951547\n",
      "teacher_0 <==> teacher_2 :: JS divergence for data sample at index 0 is 0.1569871849163815\n",
      "teacher_0 <==> teacher_3 :: JS divergence for data sample at index 0 is 0.12847224765435203\n",
      "teacher_1 <==> teacher_2 :: JS divergence for data sample at index 0 is 0.15144721424541446\n",
      "teacher_1 <==> teacher_3 :: JS divergence for data sample at index 0 is 0.15804110858483378\n",
      "teacher_2 <==> teacher_3 :: JS divergence for data sample at index 0 is 0.21335079806686663\n",
      "For data sample idx 0 :: Mean JS divergence value for 4 teachers: 0.15262030913289396\n",
      "teacher_0 <==> teacher_1 :: JS divergence for data sample at index 1 is 0.1438072370565025\n",
      "teacher_0 <==> teacher_2 :: JS divergence for data sample at index 1 is 0.14448989884137123\n",
      "teacher_0 <==> teacher_3 :: JS divergence for data sample at index 1 is 0.11438029431603193\n",
      "teacher_1 <==> teacher_2 :: JS divergence for data sample at index 1 is 0.14025146835260785\n",
      "teacher_1 <==> teacher_3 :: JS divergence for data sample at index 1 is 0.12944548784379645\n",
      "teacher_2 <==> teacher_3 :: JS divergence for data sample at index 1 is 0.08693820944799673\n",
      "For data sample idx 1 :: Mean JS divergence value for 4 teachers: 0.12655209930971778\n",
      "teacher_0 <==> teacher_1 :: JS divergence for data sample at index 2 is 0.0933826018648132\n",
      "teacher_0 <==> teacher_2 :: JS divergence for data sample at index 2 is 0.20000011386308428\n",
      "teacher_0 <==> teacher_3 :: JS divergence for data sample at index 2 is 0.156108150946399\n",
      "teacher_1 <==> teacher_2 :: JS divergence for data sample at index 2 is 0.14254748098068454\n",
      "teacher_1 <==> teacher_3 :: JS divergence for data sample at index 2 is 0.12903751986111606\n",
      "teacher_2 <==> teacher_3 :: JS divergence for data sample at index 2 is 0.1528239764087868\n",
      "For data sample idx 2 :: Mean JS divergence value for 4 teachers: 0.14564997398748067\n",
      "teacher_0 <==> teacher_1 :: JS divergence for data sample at index 3 is 0.11577621601952817\n",
      "teacher_0 <==> teacher_2 :: JS divergence for data sample at index 3 is 0.1401441191917298\n",
      "teacher_0 <==> teacher_3 :: JS divergence for data sample at index 3 is 0.16967410557739773\n",
      "teacher_1 <==> teacher_2 :: JS divergence for data sample at index 3 is 0.11148008007600338\n",
      "teacher_1 <==> teacher_3 :: JS divergence for data sample at index 3 is 0.13167241430242135\n",
      "teacher_2 <==> teacher_3 :: JS divergence for data sample at index 3 is 0.11688565032491527\n",
      "For data sample idx 3 :: Mean JS divergence value for 4 teachers: 0.13093876424866596\n",
      "teacher_0 <==> teacher_1 :: JS divergence for data sample at index 4 is 0.10351089106879656\n",
      "teacher_0 <==> teacher_2 :: JS divergence for data sample at index 4 is 0.10737716439621729\n",
      "teacher_0 <==> teacher_3 :: JS divergence for data sample at index 4 is 0.14080055276882247\n",
      "teacher_1 <==> teacher_2 :: JS divergence for data sample at index 4 is 0.15934648493073242\n",
      "teacher_1 <==> teacher_3 :: JS divergence for data sample at index 4 is 0.098814260797061\n",
      "teacher_2 <==> teacher_3 :: JS divergence for data sample at index 4 is 0.18562836429293547\n",
      "For data sample idx 4 :: Mean JS divergence value for 4 teachers: 0.1325796197090942\n",
      "teacher_0 <==> teacher_1 :: JS divergence for data sample at index 5 is 0.1696050047228344\n",
      "teacher_0 <==> teacher_2 :: JS divergence for data sample at index 5 is 0.13479132303736946\n",
      "teacher_0 <==> teacher_3 :: JS divergence for data sample at index 5 is 0.21216504941644346\n",
      "teacher_1 <==> teacher_2 :: JS divergence for data sample at index 5 is 0.1550417447089409\n",
      "teacher_1 <==> teacher_3 :: JS divergence for data sample at index 5 is 0.09105357934399304\n",
      "teacher_2 <==> teacher_3 :: JS divergence for data sample at index 5 is 0.15074814252980923\n",
      "For data sample idx 5 :: Mean JS divergence value for 4 teachers: 0.15223414062656507\n",
      "teacher_0 <==> teacher_1 :: JS divergence for data sample at index 6 is 0.12980955492290952\n",
      "teacher_0 <==> teacher_2 :: JS divergence for data sample at index 6 is 0.15798213061648345\n",
      "teacher_0 <==> teacher_3 :: JS divergence for data sample at index 6 is 0.1212543770984576\n",
      "teacher_1 <==> teacher_2 :: JS divergence for data sample at index 6 is 0.09511450068360897\n",
      "teacher_1 <==> teacher_3 :: JS divergence for data sample at index 6 is 0.09058437416427677\n",
      "teacher_2 <==> teacher_3 :: JS divergence for data sample at index 6 is 0.1440977746309969\n",
      "For data sample idx 6 :: Mean JS divergence value for 4 teachers: 0.12314045201945555\n",
      "teacher_0 <==> teacher_1 :: JS divergence for data sample at index 7 is 0.15874217903435037\n",
      "teacher_0 <==> teacher_2 :: JS divergence for data sample at index 7 is 0.14772691363939267\n",
      "teacher_0 <==> teacher_3 :: JS divergence for data sample at index 7 is 0.13732088086783564\n",
      "teacher_1 <==> teacher_2 :: JS divergence for data sample at index 7 is 0.12599516439607333\n",
      "teacher_1 <==> teacher_3 :: JS divergence for data sample at index 7 is 0.17044606068444718\n",
      "teacher_2 <==> teacher_3 :: JS divergence for data sample at index 7 is 0.16633385056567712\n",
      "For data sample idx 7 :: Mean JS divergence value for 4 teachers: 0.15109417486462937\n",
      "teacher_0 <==> teacher_1 :: JS divergence for data sample at index 8 is 0.12383457073523518\n",
      "teacher_0 <==> teacher_2 :: JS divergence for data sample at index 8 is 0.11420158752927256\n",
      "teacher_0 <==> teacher_3 :: JS divergence for data sample at index 8 is 0.0952082996265901\n",
      "teacher_1 <==> teacher_2 :: JS divergence for data sample at index 8 is 0.1300813655421476\n",
      "teacher_1 <==> teacher_3 :: JS divergence for data sample at index 8 is 0.15185317178545288\n",
      "teacher_2 <==> teacher_3 :: JS divergence for data sample at index 8 is 0.09505236387680878\n",
      "For data sample idx 8 :: Mean JS divergence value for 4 teachers: 0.11837189318258452\n",
      "teacher_0 <==> teacher_1 :: JS divergence for data sample at index 9 is 0.10336089931564388\n",
      "teacher_0 <==> teacher_2 :: JS divergence for data sample at index 9 is 0.11002241509955074\n",
      "teacher_0 <==> teacher_3 :: JS divergence for data sample at index 9 is 0.14592925681210595\n",
      "teacher_1 <==> teacher_2 :: JS divergence for data sample at index 9 is 0.13748904590297983\n",
      "teacher_1 <==> teacher_3 :: JS divergence for data sample at index 9 is 0.1481132135344063\n",
      "teacher_2 <==> teacher_3 :: JS divergence for data sample at index 9 is 0.13254796724881734\n",
      "For data sample idx 9 :: Mean JS divergence value for 4 teachers: 0.12957713298558401\n"
     ]
    }
   ],
   "source": [
    "mean_js_values = []\n",
    "for i in range(SAMPLES):\n",
    "    js_values = []\n",
    "    for t1_name, t2_name in teacher_pairs:\n",
    "        t1_out = teacher_outputs[t1_name][i]\n",
    "        t2_out = teacher_outputs[t2_name][i]\n",
    "        js_div = jensenshannon(t1_out, t2_out)\n",
    "        js_values.append(js_div)\n",
    "        print(\"{} <==> {} :: JS divergence for data sample at index {} is {}\".format(t1_name, t2_name,\n",
    "                                                                                     i, js_div))\n",
    "    mean_js = np.mean(js_values)\n",
    "    print(\"For data sample idx {} :: Mean JS divergence value for 4 teachers: {}\".format(i,\n",
    "                                                                                         mean_js))\n",
    "    mean_js_values.append(mean_js)"
   ]
  },
  {
   "cell_type": "markdown",
   "metadata": {},
   "source": [
    "#### Sort the mean values and get top-K indices with highest mean JS divergence values"
   ]
  },
  {
   "cell_type": "markdown",
   "metadata": {},
   "source": [
    "You can easily do this with argsort"
   ]
  },
  {
   "cell_type": "code",
   "execution_count": 30,
   "metadata": {},
   "outputs": [],
   "source": [
    "desc_idxs = np.argsort(mean_js_values)[::-1] # Reverse the list since argsort returns in ascending order"
   ]
  },
  {
   "cell_type": "markdown",
   "metadata": {},
   "source": [
    "Let's say we want to see top 5 images with most mean JS divergence"
   ]
  },
  {
   "cell_type": "code",
   "execution_count": 31,
   "metadata": {},
   "outputs": [],
   "source": [
    "top_5 = desc_idxs[:5]"
   ]
  },
  {
   "cell_type": "markdown",
   "metadata": {},
   "source": [
    "Now, you can visualize the **output distributions**, or original **images** corresponding to these indices"
   ]
  },
  {
   "cell_type": "code",
   "execution_count": 32,
   "metadata": {},
   "outputs": [
    {
     "data": {
      "image/png": "[encoded data removed]",
      "text/plain": [
       "<Figure size 432x288 with 1 Axes>"
      ]
     },
     "metadata": {
      "needs_background": "light"
     },
     "output_type": "display_data"
    }
   ],
   "source": [
    "top_1 = top_5[0]\n",
    "for t_name in teacher_outputs:\n",
    "    rand_idx = np.random.randint(SAMPLES)\n",
    "    plt.bar(range(CLASSES), teacher_outputs[t_name][top_1], alpha=0.3)\n",
    "plt.xlabel(\"Classes\")\n",
    "plt.ylabel(\"Probability\")\n",
    "plt.title(\"Output distribution from 4 teachers for a data sample with the HIGHEST mean JS divergence\")\n",
    "plt.show()"
   ]
  },
  {
   "cell_type": "code",
   "execution_count": 33,
   "metadata": {},
   "outputs": [
    {
     "data": {
      "image/png": "[encoded data removed]",
      "text/plain": [
       "<Figure size 432x288 with 1 Axes>"
      ]
     },
     "metadata": {
      "needs_background": "light"
     },
     "output_type": "display_data"
    }
   ],
   "source": [
    "lowest = desc_idxs[-1]\n",
    "for t_name in teacher_outputs:\n",
    "    rand_idx = np.random.randint(SAMPLES)\n",
    "    plt.bar(range(CLASSES), teacher_outputs[t_name][lowest], alpha=0.3)\n",
    "plt.xlabel(\"Classes\")\n",
    "plt.ylabel(\"Probability\")\n",
    "plt.title(\"Output distribution from 4 teachers for a data sample with the LOWEST mean JS divergence\")\n",
    "plt.show()"
   ]
  }
 ],
 "metadata": {
  "kernelspec": {
   "display_name": "Python 3",
   "language": "python",
   "name": "python3"
  },
  "language_info": {
   "codemirror_mode": {
    "name": "ipython",
    "version": 3
   },
   "file_extension": ".py",
   "mimetype": "text/x-python",
   "name": "python",
   "nbconvert_exporter": "python",
   "pygments_lexer": "ipython3",
   "version": "3.7.6"
  }
 },
 "nbformat": 4,
 "nbformat_minor": 4
}
